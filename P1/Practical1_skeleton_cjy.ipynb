{
  "cells": [
    {
      "cell_type": "markdown",
      "metadata": {
        "id": "view-in-github",
        "colab_type": "text"
      },
      "source": [
        "<a href=\"https://colab.research.google.com/github/Joy2001Chen/FDS/blob/master/Practical1_skeleton.ipynb\" target=\"_parent\"><img src=\"https://colab.research.google.com/assets/colab-badge.svg\" alt=\"Open In Colab\"/></a>"
      ]
    },
    {
      "cell_type": "markdown",
      "metadata": {
        "id": "id1w7kwZVF3I"
      },
      "source": [
        "# Practical 1 : Implementation of Linear Regression (Ridge, Lasso)\n",
        "\n",
        "- Train a linear model\n",
        "    - using least squares method\n",
        "    - implement the model from scratch using NumPy\n",
        "    - Use learning curves plot to understand whether the linear moel is overfitting or underfitting\n",
        "- Train linear models with\n",
        "    - regularization (Ridge and Lasso)\n",
        "    - polynomial basis expansion\n",
        "    - use validation data to choose the hyperparameters\n",
        "    - scikit-learn\n",
        "    - Optional task: Analyse feature importance and feature interaction (5 bonus points)\n",
        "\n",
        "We will use the following packages:"
      ]
    },
    {
      "cell_type": "code",
      "execution_count": 3,
      "metadata": {
        "id": "CTZv9o5i4gy3"
      },
      "outputs": [],
      "source": [
        "import numpy as np\n",
        "import matplotlib.pyplot as plt\n",
        "import _pickle as cp"
      ]
    },
    {
      "cell_type": "markdown",
      "metadata": {
        "id": "b1-ZQWqTVPno"
      },
      "source": [
        "We will use the winequality dataset for this practical. The dataset is available here:\n",
        "https://archive.ics.uci.edu/ml/datasets/Wine+Quality.\n",
        "In order to make it easier to import the dataset, the dataset has been converted to the numpy array format and shuffled, so that we can start the practical directly. The converted dataset is available on the OLAT page.\n",
        "\n",
        "#### Attribute Information\n",
        "Input variables (based on physicochemical tests):\n",
        "\n",
        "0. fixed acidity\n",
        "1. volatile acidity\n",
        "2. citric acid\n",
        "3. residual sugar\n",
        "4. chlorides\n",
        "5. free sulfur dioxide\n",
        "6. total sulfur dioxide\n",
        "7. density\n",
        "8. pH\n",
        "9. sulphates\n",
        "10. alcohol\n",
        "\n",
        "Output variable (based on sensory data):\n",
        "\n",
        "12. quality (score between 0 and 10)"
      ]
    },
    {
      "cell_type": "markdown",
      "metadata": {
        "id": "TzDL9RQiVaPY"
      },
      "source": [
        "The dataset has two files. We’ll focus on the white wine data, which is the larger dataset. The following code loads the data:"
      ]
    },
    {
      "cell_type": "code",
      "execution_count": 5,
      "metadata": {
        "colab": {
          "base_uri": "https://localhost:8080/"
        },
        "id": "NYkwbebUVO_i",
        "outputId": "7b9a1fb0-9e99-464f-b9ca-e82670716988"
      },
      "outputs": [
        {
          "output_type": "stream",
          "name": "stdout",
          "text": [
            "X is a (4898, 11) matrix, which contains 4898 data records and 11 features.\n",
            "y is a 4898-dimentional vector, which stores the corresponding labels of the data records in X\n"
          ]
        }
      ],
      "source": [
        "# load the white wine dataset\n",
        "# X is the feature matrix that stores the feature values of the data records\n",
        "# y is the label vector that stores the labels of the data records\n",
        "X, y = cp.load(open('winequality-white.pickle', 'rb'))\n",
        "\n",
        "# check the size of the data\n",
        "print(\"X is a {} matrix, which contains {} data records and {} features.\".format(X.shape, X.shape[0], X.shape[1]))\n",
        "print(\"y is a {}-dimentional vector, which stores the corresponding labels of the data records in X\".format(y.shape[0]))\n"
      ]
    },
    {
      "cell_type": "markdown",
      "metadata": {
        "id": "CGuNg0KbWN0z"
      },
      "source": [
        "We next split the data into training data and test data.\n",
        "In practice, we should sample randomly 80% of the data as training data and the rest as the test data.  \n",
        "However, in order to get consistent results, we use the first 80% of the data as training\n",
        "data and the remaining as the test data.\n",
        "To achieve this split, we define the following function."
      ]
    },
    {
      "cell_type": "code",
      "execution_count": 8,
      "metadata": {
        "colab": {
          "base_uri": "https://localhost:8080/"
        },
        "id": "6ZqbBa8bWNYg",
        "outputId": "58fa3757-085b-473b-e65f-d8af4eaac668"
      },
      "outputs": [
        {
          "output_type": "stream",
          "name": "stdout",
          "text": [
            "Shape of X_train: (3918, 11)\n",
            "Shape of y_train: (3918,)\n",
            "Shape of X_test: (980, 11)\n",
            "Shape of y_test: (980,)\n"
          ]
        }
      ],
      "source": [
        "# The function splits the dataset into training data and testing data.\n",
        "# The parameter split_coeff is a percentage value such that\n",
        "# the first split_coeff of the dataset goes to the training dataset\n",
        "# and the remaining data goes to the test dataset.\n",
        "def split_data(X, y, split_coeff):\n",
        "    N, _ = X.shape # get the number of records (rows)\n",
        "    train_size = int(split_coeff * N) # use the first split_coeff of the data as the training data\n",
        "    X_train = X[:train_size] # the first training_size records\n",
        "    y_train = y[:train_size]\n",
        "    X_test = X[train_size:] # the last test_size records\n",
        "    y_test = y[train_size:]\n",
        "    return X_train, y_train, X_test, y_test\n",
        "\n",
        "X_train, y_train, X_test, y_test = split_data(X, y, 0.8) # split the data with split_coeff=0.8\n",
        "\n",
        "# check the size of the splitted dataset\n",
        "print(\"Shape of X_train:\", X_train.shape)\n",
        "print(\"Shape of y_train:\", y_train.shape)\n",
        "print(\"Shape of X_test:\", X_test.shape)\n",
        "print(\"Shape of y_test:\", y_test.shape)"
      ]
    },
    {
      "cell_type": "markdown",
      "metadata": {
        "id": "q2yKNR49Wkn8"
      },
      "source": [
        "## Understanding What We’re Predicting\n",
        "\n",
        "Let’s first check\n",
        "the distribution of the y-values in the training data.\n",
        "You will find that the values are integers between 3 and 9 indicating the quality of the wine.\n"
      ]
    },
    {
      "cell_type": "markdown",
      "metadata": {
        "id": "-PMpsZNSWthB"
      },
      "source": [
        "### **Task 1**\n",
        "Make a bar chart showing the distribution of y-values in the training data. You will find that the y-values are integers from 3 to 9, which indicate the quality of the wines."
      ]
    },
    {
      "cell_type": "code",
      "execution_count": 9,
      "metadata": {
        "colab": {
          "base_uri": "https://localhost:8080/",
          "height": 472
        },
        "id": "4L_JDK3dWrsR",
        "outputId": "818396c9-ea78-40d7-a173-bd8c756752b2"
      },
      "outputs": [
        {
          "output_type": "display_data",
          "data": {
            "text/plain": [
              "<Figure size 640x480 with 1 Axes>"
            ],
            "image/png": "[encoded data removed]"
          },
          "metadata": {}
        }
      ],
      "source": [
        "#@title\n",
        "# Task 1:\n",
        "# the function takes the y-values in the training data as the input and makes the bar chart.\n",
        "# Hint: Your function should make a bar chart looks like the bar chart below.\n",
        "def plot_bar_chart_score(y_train):\n",
        "\n",
        "    unique_values, value_counts = np.unique(y_train, return_counts=True)\n",
        "\n",
        "    # Create a bar chart\n",
        "    plt.bar(unique_values, value_counts, align='center', alpha=0.7)\n",
        "    plt.xticks(unique_values)\n",
        "    plt.xlabel('Wine Quality')\n",
        "    plt.ylabel('Count')\n",
        "    plt.title('Distribution of Wine Quality Scores')\n",
        "    plt.show()\n",
        "\n",
        "plot_bar_chart_score(y_train)"
      ]
    },
    {
      "cell_type": "markdown",
      "metadata": {
        "id": "GxjlElni2FcH"
      },
      "source": [
        "### **Task 2**\n",
        "This task is to build a trivial predictor, which always returns the mean of the y-values of the training data. We consider the trivial model as a baseline. The linear regression models we build later should perform better than this trivial model."
      ]
    },
    {
      "cell_type": "code",
      "execution_count": 10,
      "metadata": {
        "colab": {
          "base_uri": "https://localhost:8080/"
        },
        "id": "-V3xFYexX1lt",
        "outputId": "a2dfa791-a336-4597-85f4-59e31691e353"
      },
      "outputs": [
        {
          "output_type": "stream",
          "name": "stdout",
          "text": [
            "Average of y on the training label values is 5.878764675855028\n"
          ]
        }
      ],
      "source": [
        "#@title\n",
        "# Task 2: implement the trivial predictor\n",
        "# The function computes the average value of y on the training label values\n",
        "def compute_average(y_train):\n",
        "    # Hint: return the mean of y_train\n",
        "\n",
        "    return np.mean(y_train)\n",
        "\n",
        "y_train_avg = compute_average(y_train)\n",
        "print(\"Average of y on the training label values is {}\".format(y_train_avg))\n",
        "\n",
        "# The trivial predictor returns the average value.\n",
        "def trivial_predictor(X_test, y_train_avg):\n",
        "  #return y_train_avg\n",
        "   return np.full_like(X_test, y_train_avg)\n"
      ]
    },
    {
      "cell_type": "markdown",
      "metadata": {
        "id": "x531Q_SxXV14"
      },
      "source": [
        "### **Task 3**\n",
        "We next evaluate the trivial predictor on the training data and test data.\n",
        "We use mean squared error (MSE) to measure the performance of the predictor.\n",
        "The task is to implement a function that reports the mean squared error of the given predictor on the given data."
      ]
    },
    {
      "cell_type": "code",
      "execution_count": 30,
      "metadata": {
        "colab": {
          "base_uri": "https://localhost:8080/"
        },
        "id": "mV8l6Ci9YlgL",
        "outputId": "831fcbb2-dc6a-4f16-86db-f2e6706b181e"
      },
      "outputs": [
        {
          "output_type": "stream",
          "name": "stdout",
          "text": [
            "Trivial Predictor\n",
            "--------------------------------------------------------------------------------\n",
            "\n",
            "MSE (Training) = 0.7768\n",
            "MSE (Testing)  = 0.8139\n"
          ]
        }
      ],
      "source": [
        "from numpy.ma.core import shape\n",
        "# We next test our trivial predictor on the training data and test data.\n",
        "# Implement a function that can report the mean squared error\n",
        "# of a predictor on the given data\n",
        "# Input: data and predictor\n",
        "# Output: mean squared error of the predictor on the given data\n",
        "\n",
        "\n",
        "def test_predictor(X, y, predictor: callable=None):\n",
        "\n",
        "\n",
        "    # Apply the predictor to each row of the matrix X to get the predictions\n",
        "    y_predicted = np.apply_along_axis(predictor, 1, X, )\n",
        "    y_predicted = y_predicted[:, 0]\n",
        "\n",
        "    # TODO: compute the mean squared error of y\n",
        "    # Compute the mean squared error (MSE)\n",
        "    # if y.shape != y_predicted.shape:\n",
        "    #   y_predicted = y_predicted.reshape(y.shape)\n",
        "\n",
        "\n",
        "    mse = np.mean((y - y_predicted) ** 2)\n",
        "    return mse\n",
        "\n",
        "y_train_avg = compute_average(y_train)\n",
        "# use the function test_predictor to test the trivial predictor\n",
        "# we use the lambda function here to pass the function trivial predictor to the function test_predictor.\n",
        "mse_trivial_predictor_train = test_predictor(X_train, y_train, lambda x: trivial_predictor(x, y_train_avg))\n",
        "mse_trivial_predictor_test = test_predictor(X_test, y_test, lambda x: trivial_predictor(x, y_train_avg))\n",
        "\n",
        "\n",
        "# Report the result\n",
        "print('Trivial Predictor')\n",
        "print('--------------------------------------------------------------------------------\\n')\n",
        "print('MSE (Training) = %.4f' % mse_trivial_predictor_train)\n",
        "print('MSE (Testing)  = %.4f' % mse_trivial_predictor_test)\n",
        "\n"
      ]
    },
    {
      "cell_type": "markdown",
      "metadata": {
        "id": "geiyM1Nea0az"
      },
      "source": [
        "## Train the Linear Model Using Least Squares Method\n",
        "\n",
        "Let us train a linear model on the training data and then check its MSE.\n",
        "We use the closed form solution of the least squares estimate to get the parameters of the linear model.\n",
        "The linear model should perform better than the trivial predictor."
      ]
    },
    {
      "cell_type": "markdown",
      "metadata": {
        "id": "WSEwFGp_bqAI"
      },
      "source": [
        "### **Task 4**\n",
        "Before training the model, we need to standardize the data, i.e., transform the data so that every feature has mean 0 and variance 1.\n",
        "\n",
        "https://en.wikipedia.org/wiki/Standard_score\n",
        "\n",
        "We first standardize the training data.\n",
        "Then we apply the same transformation to the test data, i.e. standardize the test data using the means and the standard deviations of the training data."
      ]
    },
    {
      "cell_type": "code",
      "execution_count": 39,
      "metadata": {
        "colab": {
          "base_uri": "https://localhost:8080/"
        },
        "id": "trjwkcgybhDH",
        "outputId": "adb90914-397d-4b8e-e61a-c56641242307"
      },
      "outputs": [
        {
          "output_type": "stream",
          "name": "stdout",
          "text": [
            "X_train_std: (3918, 11)\n",
            "Mean: [6.85427514e+00 2.78390761e-01 3.34892802e-01 6.42623788e+00\n",
            " 4.58213374e-02 3.53263144e+01 1.38513272e+02 9.94040729e-01\n",
            " 3.18647524e+00 4.89055641e-01 1.05115799e+01]\n",
            "Standard deviation: [8.39100902e-01 9.95630176e-02 1.24249975e-01 5.06377532e+00\n",
            " 2.16660282e-02 1.71004677e+01 4.23956179e+01 2.97972269e-03\n",
            " 1.49949475e-01 1.12992053e-01 1.22536544e+00]\n"
          ]
        }
      ],
      "source": [
        "# The task is to implement a function that can standardize the data and returns the mean and std of the data.\n",
        "# Input: training data\n",
        "# Output: standardize training data, standard deviations and means\n",
        "def standardize_data(X):\n",
        "    # TODO: compute the means and standard deviations of the data, and standardize the data\n",
        "    # When the standard deviation of a feature is zero, it means that all the values for that feature are constant\n",
        "    # exclude them from the standardization process\n",
        "    mean = np.mean(X, axis=0)\n",
        "    std = np.std(X, axis=0)\n",
        "    # mean = np.zeros(X.shape[1])\n",
        "    # std = np.zeros(X.shape[1])\n",
        "\n",
        "    X_std =  (X - mean) / std\n",
        "\n",
        "    # Check for constant features (std == 0) and exclude them from standardization\n",
        "    # non_constant_indices = np.where(std != 0)\n",
        "    # mean = mean[non_constant_indices]\n",
        "    # std = std[non_constant_indices]\n",
        "\n",
        "    # Standardize the data for non-constant features\n",
        "    # X_std = (X[:, non_constant_indices] - mean) / std\n",
        "\n",
        "    return X_std, mean, std\n",
        "\n",
        "# Standardize the training data and store the means and the stds\n",
        "X_train_std, X_train_mean, X_train_std_div = standardize_data(X_train)\n",
        "print(\"X_train_std:\", X_train_std.shape)\n",
        "print(\"Mean:\", X_train_mean)\n",
        "print(\"Standard deviation:\", X_train_std_div)"
      ]
    },
    {
      "cell_type": "code",
      "execution_count": 44,
      "metadata": {
        "colab": {
          "base_uri": "https://localhost:8080/"
        },
        "id": "RjzbA5JpM759",
        "outputId": "4d8a501e-fd7b-4294-9bbe-8cd2939d494b"
      },
      "outputs": [
        {
          "output_type": "stream",
          "name": "stdout",
          "text": [
            "Standard deviation for test data [[ 6.7   0.34  0.54 ...  3.04  0.56  8.8 ]\n",
            " [ 7.9   0.33  0.28 ...  3.15  0.38  8.8 ]\n",
            " [ 7.2   0.31  0.35 ...  3.14  0.53  9.7 ]\n",
            " ...\n",
            " [ 6.3   0.48  0.04 ...  3.24  0.36  9.6 ]\n",
            " [ 5.8   0.13  0.22 ...  3.32  0.42 11.7 ]\n",
            " [ 7.8   0.32  0.33 ...  3.07  0.58  9.6 ]]\n",
            "(980, 11)\n"
          ]
        }
      ],
      "source": [
        "# TODO: Standardize the test data using the means and standrad deviations of the training data\n",
        "\n",
        "# Compute the means and standard deviations of the training data\n",
        "mean_train = np.mean(X_train_std, axis=0)\n",
        "std_train = np.std(X_train_std, axis=0)\n",
        "\n",
        "# Standardize the test data using the means and standard deviations of the training data\n",
        "X_test_std = (X_test - mean_train) / std_train\n",
        "# X_test_std = (X_test - X_train_mean) / X_train_std_div\n",
        "print(\"Standard deviation for test data\", X_test_std)\n",
        "print(X_test_std.shape)\n",
        "###################################################\n",
        "##### YOUR CODE ENDS HERE #########################\n",
        "###################################################"
      ]
    },
    {
      "cell_type": "markdown",
      "metadata": {
        "id": "cRPPA6HMbNOr"
      },
      "source": [
        "### **Task 5**\n",
        "We have standardized X-values. Do we need to standardize the y-values? Why?"
      ]
    },
    {
      "cell_type": "markdown",
      "metadata": {
        "id": "9he5QMmfqL3_"
      },
      "source": [
        "(Add the answer to Task 5 here in text)"
      ]
    },
    {
      "cell_type": "markdown",
      "metadata": {
        "id": "vT4_Sl42bxmD"
      },
      "source": [
        "### **Task 6**\n",
        "Let's now train the linear model using the least-squares method.\n",
        "We need to add the bias term to the matrix X."
      ]
    },
    {
      "cell_type": "code",
      "execution_count": 46,
      "metadata": {
        "colab": {
          "base_uri": "https://localhost:8080/"
        },
        "id": "A4JtLr6pdJV7",
        "outputId": "a344010c-5aac-4611-b1b0-fc2e61339216"
      },
      "outputs": [
        {
          "output_type": "stream",
          "name": "stdout",
          "text": [
            "w: (12,)\n"
          ]
        }
      ],
      "source": [
        "# The task is to implement the function that adds a column of ones to the front of the input matrix\n",
        "def expand_with_ones(X):\n",
        "    # TODO: add a column of ones to the front of the input matrix\n",
        "    ones_column = np.ones((X.shape[0], 1))\n",
        "    X_out = np.hstack((ones_column, X))\n",
        "    # X_out = X\n",
        "    return X_out\n",
        "\n",
        "\n",
        "# Train the linear model using the least-squares method\n",
        "# The task is to implement the function that computes the parameters\n",
        "def least_squares_compute_parameters(X_input, y):\n",
        "    # add the bias column to the data\n",
        "    X = expand_with_ones(X_input)\n",
        "\n",
        "    # TODO: compute the parameters based on the expanded X and y using the least-squares method\n",
        "\n",
        "    w = np.linalg.lstsq(X, y, rcond=None)[0]\n",
        "    # w = np.zeros(X.shape[1])\n",
        "    return w\n",
        "\n",
        "    ###################################################\n",
        "\n",
        "# Apply the function to train the linear model\n",
        "w = least_squares_compute_parameters(X_train_std, y_train)\n",
        "print(\"w:\", w.shape)"
      ]
    },
    {
      "cell_type": "markdown",
      "metadata": {
        "id": "lasj_1PpeZib"
      },
      "source": [
        "After computing the parameters,\n",
        "we can build the linear model predictor.\n",
        "The predictor takes as input the computed parameters and the data, and predicts the labels for the input data."
      ]
    },
    {
      "cell_type": "code",
      "execution_count": 48,
      "metadata": {
        "id": "Lb-hNagxc3Wj"
      },
      "outputs": [],
      "source": [
        "# Implement the linear model predictor\n",
        "# Input: test data and parameters\n",
        "# Output: predicted values\n",
        "def linear_model_predictor(X, w):\n",
        "    # TODO: predict the labels for the input data\n",
        "\n",
        "    ###################################################\n",
        "    y_pred = np.dot(X, w)\n",
        "    return y_pred\n",
        "    # return 0\n"
      ]
    },
    {
      "cell_type": "markdown",
      "metadata": {
        "id": "cFOYpwbufz7J"
      },
      "source": [
        "We can now evaluate our linear model predictor on the test data."
      ]
    },
    {
      "cell_type": "code",
      "execution_count": 49,
      "metadata": {
        "colab": {
          "base_uri": "https://localhost:8080/",
          "height": 347
        },
        "id": "LuHHmn2RB55j",
        "outputId": "d906006a-59c2-47bf-ff38-e72e54003773"
      },
      "outputs": [
        {
          "output_type": "error",
          "ename": "IndexError",
          "evalue": "ignored",
          "traceback": [
            "\u001b[0;31m---------------------------------------------------------------------------\u001b[0m",
            "\u001b[0;31mIndexError\u001b[0m                                Traceback (most recent call last)",
            "\u001b[0;32m<ipython-input-49-41e0e4b63a50>\u001b[0m in \u001b[0;36m<cell line: 2>\u001b[0;34m()\u001b[0m\n\u001b[1;32m      1\u001b[0m \u001b[0;31m# use the function test_predictor to evaluate the linear model predictor\u001b[0m\u001b[0;34m\u001b[0m\u001b[0;34m\u001b[0m\u001b[0m\n\u001b[0;32m----> 2\u001b[0;31m \u001b[0mmse_linear_model_predictor\u001b[0m \u001b[0;34m=\u001b[0m \u001b[0mtest_predictor\u001b[0m\u001b[0;34m(\u001b[0m\u001b[0mexpand_with_ones\u001b[0m\u001b[0;34m(\u001b[0m\u001b[0mX_test_std\u001b[0m\u001b[0;34m)\u001b[0m\u001b[0;34m,\u001b[0m \u001b[0my_test\u001b[0m\u001b[0;34m,\u001b[0m \u001b[0;32mlambda\u001b[0m \u001b[0mx\u001b[0m\u001b[0;34m:\u001b[0m \u001b[0mlinear_model_predictor\u001b[0m\u001b[0;34m(\u001b[0m\u001b[0mx\u001b[0m\u001b[0;34m,\u001b[0m \u001b[0mw\u001b[0m\u001b[0;34m)\u001b[0m\u001b[0;34m)\u001b[0m\u001b[0;34m\u001b[0m\u001b[0;34m\u001b[0m\u001b[0m\n\u001b[0m\u001b[1;32m      3\u001b[0m \u001b[0mprint\u001b[0m\u001b[0;34m(\u001b[0m\u001b[0;34m\"Mean squared error is {}\"\u001b[0m\u001b[0;34m.\u001b[0m\u001b[0mformat\u001b[0m\u001b[0;34m(\u001b[0m\u001b[0mmse_linear_model_predictor\u001b[0m\u001b[0;34m)\u001b[0m\u001b[0;34m)\u001b[0m\u001b[0;34m\u001b[0m\u001b[0;34m\u001b[0m\u001b[0m\n",
            "\u001b[0;32m<ipython-input-30-d8700ab24b94>\u001b[0m in \u001b[0;36mtest_predictor\u001b[0;34m(X, y, predictor)\u001b[0m\n\u001b[1;32m     12\u001b[0m     \u001b[0;31m# Apply the predictor to each row of the matrix X to get the predictions\u001b[0m\u001b[0;34m\u001b[0m\u001b[0;34m\u001b[0m\u001b[0m\n\u001b[1;32m     13\u001b[0m     \u001b[0my_predicted\u001b[0m \u001b[0;34m=\u001b[0m \u001b[0mnp\u001b[0m\u001b[0;34m.\u001b[0m\u001b[0mapply_along_axis\u001b[0m\u001b[0;34m(\u001b[0m\u001b[0mpredictor\u001b[0m\u001b[0;34m,\u001b[0m \u001b[0;36m1\u001b[0m\u001b[0;34m,\u001b[0m \u001b[0mX\u001b[0m\u001b[0;34m,\u001b[0m \u001b[0;34m)\u001b[0m\u001b[0;34m\u001b[0m\u001b[0;34m\u001b[0m\u001b[0m\n\u001b[0;32m---> 14\u001b[0;31m     \u001b[0my_predicted\u001b[0m \u001b[0;34m=\u001b[0m \u001b[0my_predicted\u001b[0m\u001b[0;34m[\u001b[0m\u001b[0;34m:\u001b[0m\u001b[0;34m,\u001b[0m \u001b[0;36m0\u001b[0m\u001b[0;34m]\u001b[0m\u001b[0;34m\u001b[0m\u001b[0;34m\u001b[0m\u001b[0m\n\u001b[0m\u001b[1;32m     15\u001b[0m \u001b[0;34m\u001b[0m\u001b[0m\n\u001b[1;32m     16\u001b[0m     \u001b[0;31m# TODO: compute the mean squared error of y\u001b[0m\u001b[0;34m\u001b[0m\u001b[0;34m\u001b[0m\u001b[0m\n",
            "\u001b[0;31mIndexError\u001b[0m: too many indices for array: array is 1-dimensional, but 2 were indexed"
          ]
        }
      ],
      "source": [
        "# use the function test_predictor to evaluate the linear model predictor\n",
        "mse_linear_model_predictor = test_predictor(expand_with_ones(X_test_std), y_test, lambda x: linear_model_predictor(x, w))\n",
        "print(\"Mean squared error is {}\".format(mse_linear_model_predictor))"
      ]
    },
    {
      "cell_type": "markdown",
      "metadata": {
        "id": "zqj4HKAihF7Q"
      },
      "source": [
        "## Learning Curves\n",
        "\n",
        "Let us check if the linear model is overfitting or underfitting. Since the dataset is somewhat large and there are only 11 features, the model shouldn't be overfitting.\n",
        "To check it, we need to check the learning curves, i.e. how the performance of the model changes when it is trained with increasingly more data.\n",
        "We train the model on the increasingly more data ([20, 40, ..., 600] data records), and evaluate the model by computing the MSE of the model on both the training data and the test data.\n",
        "We use the collected MSE to build the learning curves plot."
      ]
    },
    {
      "cell_type": "markdown",
      "metadata": {
        "id": "MNf11kurCgKF"
      },
      "source": [
        "### **Task 7**\n",
        "\n",
        "Let's first implement a function that comprises what we have implemented above.\n",
        "The function takes as inputs the data and the split coefficient, and\n",
        "1. standardizes the data,\n",
        "2. trains the linear model, and\n",
        "3. reports the mse of the linear model predictor on both training and test datasets."
      ]
    },
    {
      "cell_type": "code",
      "execution_count": 50,
      "metadata": {
        "colab": {
          "base_uri": "https://localhost:8080/",
          "height": 364
        },
        "id": "UcGRQBrEb106",
        "outputId": "b1fc1a56-a078-4fdb-dcf7-914360af3c45"
      },
      "outputs": [
        {
          "output_type": "error",
          "ename": "NameError",
          "evalue": "ignored",
          "traceback": [
            "\u001b[0;31m---------------------------------------------------------------------------\u001b[0m",
            "\u001b[0;31mNameError\u001b[0m                                 Traceback (most recent call last)",
            "\u001b[0;32m<ipython-input-50-4574d2fe32b6>\u001b[0m in \u001b[0;36m<cell line: 32>\u001b[0;34m()\u001b[0m\n\u001b[1;32m     30\u001b[0m \u001b[0;34m\u001b[0m\u001b[0m\n\u001b[1;32m     31\u001b[0m \u001b[0;34m\u001b[0m\u001b[0m\n\u001b[0;32m---> 32\u001b[0;31m \u001b[0mmse_train\u001b[0m\u001b[0;34m,\u001b[0m \u001b[0mmse_test\u001b[0m \u001b[0;34m=\u001b[0m \u001b[0mtrain_and_test\u001b[0m\u001b[0;34m(\u001b[0m\u001b[0mX_train\u001b[0m\u001b[0;34m,\u001b[0m \u001b[0my_train\u001b[0m\u001b[0;34m,\u001b[0m \u001b[0mX_test\u001b[0m\u001b[0;34m,\u001b[0m \u001b[0my_test\u001b[0m\u001b[0;34m)\u001b[0m\u001b[0;34m\u001b[0m\u001b[0;34m\u001b[0m\u001b[0m\n\u001b[0m\u001b[1;32m     33\u001b[0m \u001b[0mprint\u001b[0m\u001b[0;34m(\u001b[0m\u001b[0;34m'Linear Model'\u001b[0m\u001b[0;34m)\u001b[0m\u001b[0;34m\u001b[0m\u001b[0;34m\u001b[0m\u001b[0m\n\u001b[1;32m     34\u001b[0m \u001b[0mprint\u001b[0m\u001b[0;34m(\u001b[0m\u001b[0;34m'-----------------------\\n'\u001b[0m\u001b[0;34m)\u001b[0m\u001b[0;34m\u001b[0m\u001b[0;34m\u001b[0m\u001b[0m\n",
            "\u001b[0;32m<ipython-input-50-4574d2fe32b6>\u001b[0m in \u001b[0;36mtrain_and_test\u001b[0;34m(X_train, y_train, X_test, y_test)\u001b[0m\n\u001b[1;32m     23\u001b[0m \u001b[0;34m\u001b[0m\u001b[0m\n\u001b[1;32m     24\u001b[0m     \u001b[0;31m# Calculate the MSE on both training and test datasets\u001b[0m\u001b[0;34m\u001b[0m\u001b[0;34m\u001b[0m\u001b[0m\n\u001b[0;32m---> 25\u001b[0;31m     \u001b[0mmse_train\u001b[0m \u001b[0;34m=\u001b[0m \u001b[0mmean_squared_error\u001b[0m\u001b[0;34m(\u001b[0m\u001b[0my_train\u001b[0m\u001b[0;34m,\u001b[0m \u001b[0my_train_pred\u001b[0m\u001b[0;34m)\u001b[0m\u001b[0;34m\u001b[0m\u001b[0;34m\u001b[0m\u001b[0m\n\u001b[0m\u001b[1;32m     26\u001b[0m     \u001b[0mmse_test\u001b[0m \u001b[0;34m=\u001b[0m \u001b[0mmean_squared_error\u001b[0m\u001b[0;34m(\u001b[0m\u001b[0my_test\u001b[0m\u001b[0;34m,\u001b[0m \u001b[0my_test_pred\u001b[0m\u001b[0;34m)\u001b[0m\u001b[0;34m\u001b[0m\u001b[0;34m\u001b[0m\u001b[0m\n\u001b[1;32m     27\u001b[0m \u001b[0;34m\u001b[0m\u001b[0m\n",
            "\u001b[0;31mNameError\u001b[0m: name 'mean_squared_error' is not defined"
          ]
        }
      ],
      "source": [
        "# Input: training data and test data\n",
        "# Output: mse of the linear model predictor on both the training and test data\n",
        "def train_and_test(X_train, y_train, X_test, y_test):\n",
        "    # TODO: implement the function\n",
        "\n",
        "    # Hints: use the functions you have implemented\n",
        "    mse_train = 0\n",
        "    mse_test = 0\n",
        "    # Standardize the training data\n",
        "    X_train_std, X_train_mean, X_train_std_div = standardize_data(X_train)\n",
        "\n",
        "    # Standardize the test data using the means and standard deviations of the training data\n",
        "    X_test_std = (X_test - X_train_mean) / X_train_std_div\n",
        "\n",
        "    # Train the linear model using the least-squares method\n",
        "    w = least_squares_compute_parameters(X_train_std, y_train)\n",
        "\n",
        "    # Make predictions on the training data\n",
        "    y_train_pred = linear_model_predictor(expand_with_ones(X_train_std), w)\n",
        "\n",
        "    # Make predictions on the test data\n",
        "    y_test_pred = linear_model_predictor(expand_with_ones(X_test_std), w)\n",
        "\n",
        "    # Calculate the MSE on both training and test datasets\n",
        "    mse_train = mean_squared_error(y_train, y_train_pred)\n",
        "    mse_test = mean_squared_error(y_test, y_test_pred)\n",
        "\n",
        "\n",
        "    return mse_train, mse_test\n",
        "\n",
        "\n",
        "mse_train, mse_test = train_and_test(X_train, y_train, X_test, y_test)\n",
        "print('Linear Model')\n",
        "print('-----------------------\\n')\n",
        "print('MSE (Training) = %.4f' % mse_train)\n",
        "print('MSE (Testing)  = %.4f' % mse_test)\n"
      ]
    },
    {
      "cell_type": "markdown",
      "metadata": {
        "id": "NTJw_BrzhRwi"
      },
      "source": [
        "We are now ready to report the learning curves.\n",
        "The task is to train the linear model on the increasingly more data ([20, 40, ..., 600] data records)\n",
        "and store the MSE of the trained model on the training data and the test data in the lists `mse_train_v` and `mse_test`, respectively.\n",
        "We have provided the code for generating the learning curves from `mse_train_v` and `mse_test`."
      ]
    },
    {
      "cell_type": "code",
      "execution_count": null,
      "metadata": {
        "colab": {
          "base_uri": "https://localhost:8080/",
          "height": 575
        },
        "id": "jDsdh4T3hcIU",
        "outputId": "28f97a3c-a2d1-431f-8ca9-95eb26bb9f30"
      },
      "outputs": [
        {
          "output_type": "stream",
          "name": "stderr",
          "text": [
            "<ipython-input-39-6fdd6e547f11>:9: RuntimeWarning: divide by zero encountered in divide\n",
            "  X_std =  (X - mean) / std\n",
            "<ipython-input-50-5459005a5fc0>:13: RuntimeWarning: divide by zero encountered in divide\n",
            "  X_test_std = (X_test - X_train_mean) / X_train_std_div\n",
            "<ipython-input-50-5459005a5fc0>:13: RuntimeWarning: invalid value encountered in divide\n",
            "  X_test_std = (X_test - X_train_mean) / X_train_std_div\n"
          ]
        },
        {
          "output_type": "error",
          "ename": "SystemError",
          "evalue": "ignored",
          "traceback": [
            "\u001b[0;31m---------------------------------------------------------------------------\u001b[0m",
            "\u001b[0;31mValueError\u001b[0m                                Traceback (most recent call last)",
            "\u001b[0;31mValueError\u001b[0m: On entry to DLASCL parameter number 4 had an illegal value",
            "\nThe above exception was the direct cause of the following exception:\n",
            "\u001b[0;31mSystemError\u001b[0m                               Traceback (most recent call last)",
            "\u001b[0;32m<ipython-input-51-05e0905c0efc>\u001b[0m in \u001b[0;36m<cell line: 8>\u001b[0;34m()\u001b[0m\n\u001b[1;32m     14\u001b[0m     \u001b[0my_train_subset\u001b[0m \u001b[0;34m=\u001b[0m \u001b[0my_train\u001b[0m\u001b[0;34m[\u001b[0m\u001b[0;34m:\u001b[0m\u001b[0mtrain_size\u001b[0m\u001b[0;34m]\u001b[0m\u001b[0;34m\u001b[0m\u001b[0;34m\u001b[0m\u001b[0m\n\u001b[1;32m     15\u001b[0m     \u001b[0;31m#   2. train and compute the MSE on both training and test data using the train_and_test function\u001b[0m\u001b[0;34m\u001b[0m\u001b[0;34m\u001b[0m\u001b[0m\n\u001b[0;32m---> 16\u001b[0;31m     \u001b[0mmse_train\u001b[0m\u001b[0;34m,\u001b[0m \u001b[0mmse_test\u001b[0m \u001b[0;34m=\u001b[0m \u001b[0mtrain_and_test\u001b[0m\u001b[0;34m(\u001b[0m\u001b[0mX_train_subset\u001b[0m\u001b[0;34m,\u001b[0m \u001b[0my_train_subset\u001b[0m\u001b[0;34m,\u001b[0m \u001b[0mX_test\u001b[0m\u001b[0;34m,\u001b[0m \u001b[0my_test\u001b[0m\u001b[0;34m)\u001b[0m\u001b[0;34m\u001b[0m\u001b[0;34m\u001b[0m\u001b[0m\n\u001b[0m\u001b[1;32m     17\u001b[0m     \u001b[0;31m#   3. add the computed MSE to the lists mse_train_v and mse_test_v\u001b[0m\u001b[0;34m\u001b[0m\u001b[0;34m\u001b[0m\u001b[0m\n\u001b[1;32m     18\u001b[0m     \u001b[0mmse_train_v\u001b[0m\u001b[0;34m.\u001b[0m\u001b[0mappend\u001b[0m\u001b[0;34m(\u001b[0m\u001b[0mmse_train\u001b[0m\u001b[0;34m)\u001b[0m\u001b[0;34m\u001b[0m\u001b[0;34m\u001b[0m\u001b[0m\n",
            "\u001b[0;32m<ipython-input-50-5459005a5fc0>\u001b[0m in \u001b[0;36mtrain_and_test\u001b[0;34m(X_train, y_train, X_test, y_test)\u001b[0m\n\u001b[1;32m     14\u001b[0m \u001b[0;34m\u001b[0m\u001b[0m\n\u001b[1;32m     15\u001b[0m     \u001b[0;31m# Train the linear model using the least-squares method\u001b[0m\u001b[0;34m\u001b[0m\u001b[0;34m\u001b[0m\u001b[0m\n\u001b[0;32m---> 16\u001b[0;31m     \u001b[0mw\u001b[0m \u001b[0;34m=\u001b[0m \u001b[0mleast_squares_compute_parameters\u001b[0m\u001b[0;34m(\u001b[0m\u001b[0mX_train_std\u001b[0m\u001b[0;34m,\u001b[0m \u001b[0my_train\u001b[0m\u001b[0;34m)\u001b[0m\u001b[0;34m\u001b[0m\u001b[0;34m\u001b[0m\u001b[0m\n\u001b[0m\u001b[1;32m     17\u001b[0m \u001b[0;34m\u001b[0m\u001b[0m\n\u001b[1;32m     18\u001b[0m     \u001b[0;31m# Make predictions on the training data\u001b[0m\u001b[0;34m\u001b[0m\u001b[0;34m\u001b[0m\u001b[0m\n",
            "\u001b[0;32m<ipython-input-47-890829136f1a>\u001b[0m in \u001b[0;36mleast_squares_compute_parameters\u001b[0;34m(X_input, y)\u001b[0m\n\u001b[1;32m     22\u001b[0m     \u001b[0;31m##### YOUR CODE STARTS HERE #######################\u001b[0m\u001b[0;34m\u001b[0m\u001b[0;34m\u001b[0m\u001b[0m\n\u001b[1;32m     23\u001b[0m     \u001b[0;31m###################################################\u001b[0m\u001b[0;34m\u001b[0m\u001b[0;34m\u001b[0m\u001b[0m\n\u001b[0;32m---> 24\u001b[0;31m     \u001b[0mw\u001b[0m \u001b[0;34m=\u001b[0m \u001b[0mnp\u001b[0m\u001b[0;34m.\u001b[0m\u001b[0mlinalg\u001b[0m\u001b[0;34m.\u001b[0m\u001b[0mlstsq\u001b[0m\u001b[0;34m(\u001b[0m\u001b[0mX\u001b[0m\u001b[0;34m,\u001b[0m \u001b[0my\u001b[0m\u001b[0;34m,\u001b[0m \u001b[0mrcond\u001b[0m\u001b[0;34m=\u001b[0m\u001b[0;32mNone\u001b[0m\u001b[0;34m)\u001b[0m\u001b[0;34m[\u001b[0m\u001b[0;36m0\u001b[0m\u001b[0;34m]\u001b[0m\u001b[0;34m\u001b[0m\u001b[0;34m\u001b[0m\u001b[0m\n\u001b[0m\u001b[1;32m     25\u001b[0m     \u001b[0;31m# w = np.zeros(X.shape[1])\u001b[0m\u001b[0;34m\u001b[0m\u001b[0;34m\u001b[0m\u001b[0m\n\u001b[1;32m     26\u001b[0m     \u001b[0;32mreturn\u001b[0m \u001b[0mw\u001b[0m\u001b[0;34m\u001b[0m\u001b[0;34m\u001b[0m\u001b[0m\n",
            "\u001b[0;32m/usr/local/lib/python3.10/dist-packages/numpy/core/overrides.py\u001b[0m in \u001b[0;36mlstsq\u001b[0;34m(*args, **kwargs)\u001b[0m\n",
            "\u001b[0;32m/usr/local/lib/python3.10/dist-packages/numpy/linalg/linalg.py\u001b[0m in \u001b[0;36mlstsq\u001b[0;34m(a, b, rcond)\u001b[0m\n\u001b[1;32m   2298\u001b[0m         \u001b[0;31m# lapack can't handle n_rhs = 0 - so allocate the array one larger in that axis\u001b[0m\u001b[0;34m\u001b[0m\u001b[0;34m\u001b[0m\u001b[0m\n\u001b[1;32m   2299\u001b[0m         \u001b[0mb\u001b[0m \u001b[0;34m=\u001b[0m \u001b[0mzeros\u001b[0m\u001b[0;34m(\u001b[0m\u001b[0mb\u001b[0m\u001b[0;34m.\u001b[0m\u001b[0mshape\u001b[0m\u001b[0;34m[\u001b[0m\u001b[0;34m:\u001b[0m\u001b[0;34m-\u001b[0m\u001b[0;36m2\u001b[0m\u001b[0;34m]\u001b[0m \u001b[0;34m+\u001b[0m \u001b[0;34m(\u001b[0m\u001b[0mm\u001b[0m\u001b[0;34m,\u001b[0m \u001b[0mn_rhs\u001b[0m \u001b[0;34m+\u001b[0m \u001b[0;36m1\u001b[0m\u001b[0;34m)\u001b[0m\u001b[0;34m,\u001b[0m \u001b[0mdtype\u001b[0m\u001b[0;34m=\u001b[0m\u001b[0mb\u001b[0m\u001b[0;34m.\u001b[0m\u001b[0mdtype\u001b[0m\u001b[0;34m)\u001b[0m\u001b[0;34m\u001b[0m\u001b[0;34m\u001b[0m\u001b[0m\n\u001b[0;32m-> 2300\u001b[0;31m     \u001b[0mx\u001b[0m\u001b[0;34m,\u001b[0m \u001b[0mresids\u001b[0m\u001b[0;34m,\u001b[0m \u001b[0mrank\u001b[0m\u001b[0;34m,\u001b[0m \u001b[0ms\u001b[0m \u001b[0;34m=\u001b[0m \u001b[0mgufunc\u001b[0m\u001b[0;34m(\u001b[0m\u001b[0ma\u001b[0m\u001b[0;34m,\u001b[0m \u001b[0mb\u001b[0m\u001b[0;34m,\u001b[0m \u001b[0mrcond\u001b[0m\u001b[0;34m,\u001b[0m \u001b[0msignature\u001b[0m\u001b[0;34m=\u001b[0m\u001b[0msignature\u001b[0m\u001b[0;34m,\u001b[0m \u001b[0mextobj\u001b[0m\u001b[0;34m=\u001b[0m\u001b[0mextobj\u001b[0m\u001b[0;34m)\u001b[0m\u001b[0;34m\u001b[0m\u001b[0;34m\u001b[0m\u001b[0m\n\u001b[0m\u001b[1;32m   2301\u001b[0m     \u001b[0;32mif\u001b[0m \u001b[0mm\u001b[0m \u001b[0;34m==\u001b[0m \u001b[0;36m0\u001b[0m\u001b[0;34m:\u001b[0m\u001b[0;34m\u001b[0m\u001b[0;34m\u001b[0m\u001b[0m\n\u001b[1;32m   2302\u001b[0m         \u001b[0mx\u001b[0m\u001b[0;34m[\u001b[0m\u001b[0;34m...\u001b[0m\u001b[0;34m]\u001b[0m \u001b[0;34m=\u001b[0m \u001b[0;36m0\u001b[0m\u001b[0;34m\u001b[0m\u001b[0;34m\u001b[0m\u001b[0m\n",
            "\u001b[0;32m/usr/local/lib/python3.10/dist-packages/numpy/linalg/linalg.py\u001b[0m in \u001b[0;36m_raise_linalgerror_lstsq\u001b[0;34m(err, flag)\u001b[0m\n\u001b[1;32m     99\u001b[0m \u001b[0;34m\u001b[0m\u001b[0m\n\u001b[1;32m    100\u001b[0m \u001b[0;32mdef\u001b[0m \u001b[0m_raise_linalgerror_lstsq\u001b[0m\u001b[0;34m(\u001b[0m\u001b[0merr\u001b[0m\u001b[0;34m,\u001b[0m \u001b[0mflag\u001b[0m\u001b[0;34m)\u001b[0m\u001b[0;34m:\u001b[0m\u001b[0;34m\u001b[0m\u001b[0;34m\u001b[0m\u001b[0m\n\u001b[0;32m--> 101\u001b[0;31m     \u001b[0;32mraise\u001b[0m \u001b[0mLinAlgError\u001b[0m\u001b[0;34m(\u001b[0m\u001b[0;34m\"SVD did not converge in Linear Least Squares\"\u001b[0m\u001b[0;34m)\u001b[0m\u001b[0;34m\u001b[0m\u001b[0;34m\u001b[0m\u001b[0m\n\u001b[0m\u001b[1;32m    102\u001b[0m \u001b[0;34m\u001b[0m\u001b[0m\n\u001b[1;32m    103\u001b[0m \u001b[0;32mdef\u001b[0m \u001b[0m_raise_linalgerror_qr\u001b[0m\u001b[0;34m(\u001b[0m\u001b[0merr\u001b[0m\u001b[0;34m,\u001b[0m \u001b[0mflag\u001b[0m\u001b[0;34m)\u001b[0m\u001b[0;34m:\u001b[0m\u001b[0;34m\u001b[0m\u001b[0;34m\u001b[0m\u001b[0m\n",
            "\u001b[0;31mSystemError\u001b[0m: <class 'numpy.linalg.LinAlgError'> returned a result with an exception set"
          ]
        }
      ],
      "source": [
        "mse_train_v = []\n",
        "mse_test_v = []\n",
        "\n",
        "TRAINING_SIZE_MAX = 601\n",
        "TRAINING_SIZE_MIN = 20\n",
        "\n",
        "# compute the MSE over data with sizes from TRAINING_SIZE_MIN to TRAINING_SIZE_MAX with increasing step 20\n",
        "for train_size in range(TRAINING_SIZE_MIN, TRAINING_SIZE_MAX, 20):\n",
        "    mse_train = 0\n",
        "    mse_test = 0\n",
        "    # TODO:\n",
        "    #   1. use the first train_size data records from the X_train and y_train as the training data\n",
        "    X_train_subset = X_train[:train_size]\n",
        "    y_train_subset = y_train[:train_size]\n",
        "    #   2. train and compute the MSE on both training and test data using the train_and_test function\n",
        "    mse_train, mse_test = train_and_test(X_train_subset, y_train_subset, X_test, y_test)\n",
        "    #   3. add the computed MSE to the lists mse_train_v and mse_test_v\n",
        "    mse_train_v.append(mse_train)\n",
        "    mse_test_v.append(mse_test)\n",
        "\n",
        "# The below code generates the learning curves plot\n",
        "plt.figure(2)\n",
        "plt.plot(np.arange(TRAINING_SIZE_MIN, TRAINING_SIZE_MAX, 20), mse_train_v, 'r--', label=\"Training Error\")\n",
        "plt.plot(np.arange(TRAINING_SIZE_MIN, TRAINING_SIZE_MAX, 20), mse_test_v, 'b-', label=\"Test Error\")\n",
        "plt.xlabel('Dataset Size')\n",
        "plt.ylabel('Mean Squared Error')\n",
        "plt.show()"
      ]
    },
    {
      "cell_type": "markdown",
      "metadata": {
        "id": "KQ-Y0X_1wvFM"
      },
      "source": [
        "### **Task 8**\n",
        "Explain whether you think the model is underfitting or not and how much data you need before getting the optimal test error."
      ]
    },
    {
      "cell_type": "markdown",
      "metadata": {
        "id": "9A9VqDTzOdfd"
      },
      "source": [
        "(Add the answer to Task 8 here in text)"
      ]
    },
    {
      "cell_type": "markdown",
      "metadata": {
        "id": "djpsaTu_kK3T"
      },
      "source": [
        "## Polynomial Basis Expansion and Regularisation\n",
        "\n",
        "In this part, we will try to improve the linear model by basis expansion and regularisation.\n",
        "\n",
        "The task is to\n",
        "1. apply the degree 2 basis expansion to the data,\n",
        "2. build the Ridge and Lasso models using scikit-learn, and\n",
        "3. perform hyperparameter optimization to find the optimal hyperparameter lambda.\n",
        "\n",
        "For the hyperparameter optimization, you should set the last 20% of the training data for the purpose of validation and\n",
        "try lambda values [10^-4, 10^-3, 10^-2, 10^-1, 1, 10, 100].\n",
        "\n",
        "\n",
        "We will use the scikit-learn package. You can import other scikit-learn packages if you think they are useful. Read the documentation available here: http://scikit-learn.org/stable/modules/classes.html"
      ]
    },
    {
      "cell_type": "code",
      "execution_count": null,
      "metadata": {
        "id": "9TM0nkNbkhfM"
      },
      "outputs": [],
      "source": [
        "# import the preprocessing libs for standarization and basis expansion\n",
        "from sklearn.preprocessing import StandardScaler, PolynomialFeatures\n",
        "\n",
        "# Ridge and Lasso linear model\n",
        "from sklearn.linear_model import Ridge, Lasso"
      ]
    },
    {
      "cell_type": "markdown",
      "metadata": {
        "id": "pCwBPuOXlRF7"
      },
      "source": [
        "### **Task 9**\n",
        "Let's implement the function for expanding the basis of the dataset.\n",
        "\n",
        "Hints: use `PolynomialFeatures`"
      ]
    },
    {
      "cell_type": "code",
      "execution_count": null,
      "metadata": {
        "id": "50azFolql1qA"
      },
      "outputs": [],
      "source": [
        "from sklearn.preprocessing import PolynomialFeatures\n",
        "\n",
        "def expand_basis(X, degree):\n",
        "    poly_features = PolynomialFeatures(degree=degree)\n",
        "    X_expanded = poly_features.fit_transform(X)\n",
        "    return X_expanded\n",
        "    # TODO: expand the basis of X for the input degree\n",
        "\n",
        "    # Hints: use the function PolynomialFeatures\n"
      ]
    },
    {
      "cell_type": "markdown",
      "metadata": {
        "id": "6jwkPevimQri"
      },
      "source": [
        "### **Task 10**\n",
        "We need to expand and standardize the the data,\n",
        "and prepare the training, test and validation data on the expanded data.\n",
        "You should set the last 20% of the training data as the validation data.\n",
        "\n",
        "Hints: use `StandardScaler` and `std_scaler` to standardize the data"
      ]
    },
    {
      "cell_type": "code",
      "execution_count": null,
      "metadata": {
        "id": "dQCq4G9YmW7w"
      },
      "outputs": [],
      "source": [
        "# def prepare_data(X, y, degree):\n",
        "#     # TODO: the training, test and validation data using the expanded dataset.\n",
        "\n",
        "#     # Hints: follow the steps\n",
        "#     # 1. split the data (X, y) into training data (X_train, y_train) and test data (X_test, y_test)\n",
        "#     # 2. standardize the training data and do the same transformation to the test data\n",
        "#     # 3. expand the basis of the training data and test data, and standardize the training data and do the same transformation to the test data\n",
        "#     # 4. split the expanded training data into training data (X_train_n, y_train_n) and validation data (X_train_v, y_train_v)\n",
        "#     # 5. standardize the training data and do the same transformation to the validation data\n",
        "\n",
        "from sklearn.model_selection import train_test_split\n",
        "from sklearn.preprocessing import StandardScaler\n",
        "from sklearn.preprocessing import PolynomialFeatures\n",
        "\n",
        "def prepare_data(X, y, degree):\n",
        "    # training data\n",
        "    X_train = X\n",
        "    y_train = y\n",
        "\n",
        "    # test data\n",
        "    X_test = X\n",
        "    y_test = y\n",
        "\n",
        "    # Split the data (X, y) into training data (X_train, y_train) and test data (X_test, y_test)\n",
        "    X_train, X_test, y_train, y_test = train_test_split(X, y, test_size=0.2, random_state=42)\n",
        "\n",
        "    # Standardize the training data and do the same transformation to the test data\n",
        "    std_scaler = StandardScaler()\n",
        "    X_train_std = std_scaler.fit_transform(X_train)\n",
        "    X_test_std = std_scaler.transform(X_test)\n",
        "\n",
        "    # Expand the basis of the training data and test data, and standardize the training data\n",
        "    X_train_expanded = expand_basis(X_train_std, degree)\n",
        "    X_test_expanded = expand_basis(X_test_std, degree)\n",
        "\n",
        "    # Split the expanded training data into training data (X_train_n, y_train_n) and validation data (X_train_v, y_train_v)\n",
        "    X_train_n, X_train_v, y_train_n, y_train_v = train_test_split(\n",
        "        X_train_expanded, y_train, test_size=0.2, random_state=42)\n",
        "\n",
        "    # Standardize the training data and do the same transformation to the validation data\n",
        "    X_train_n_std = std_scaler.fit_transform(X_train_n)\n",
        "    X_train_v_std = std_scaler.transform(X_train_v)\n",
        "\n",
        "    return X_train_n_std, y_train_n, X_train_v_std, y_train_v, X_test_expanded, y_test\n",
        "\n",
        "# here we expand the dataset with degree 2\n",
        "X_train_n_std, y_train_n, X_train_v_std, y_train_v, X_test_expanded, y_test = prepare_data(X, y, 2)\n"
      ]
    },
    {
      "cell_type": "markdown",
      "metadata": {
        "id": "AZyfYbixwvFQ"
      },
      "source": [
        "**Why standardisation is required before basis expansion?**\n",
        "\n",
        "Assume we have a dataset with two features x1 and x2, where x1 has a small scale while x2 has a large scale. When we perform basis expansion, we  get a new feature x1x2. Since x2 has a larger scale than x1, it is likely x2 will contribute more to the value of the new feature x1x2, which means a bias is introduce here.\n",
        "The correct way is to standardise the features before the basis expansion. In this case x1 and x2 have the same scale, so they contribute same to the new feature x1x2, i.e. no bias is introduced.\n",
        "\n",
        "\n",
        "**Why standardise the training data in step 5?**\n",
        "\n",
        "Ridge and Lasso regularisation require the data to have mean of 0 and standard deviation of 1. However, after the basis expansion and splitting in step 4, the training data might not have the desired distribution, so we need to perform the standardisation on the training data.\n",
        "\n",
        "\n",
        "**Why not standardise both training and validation data together?**\n",
        "\n",
        "When we use validation data to chose the hyperparameters, we treat the validation data like the test data -- we should not assume we can access these data. So we should standardise the training data and perform the same operation to the validation data."
      ]
    },
    {
      "cell_type": "markdown",
      "metadata": {
        "id": "i3BxxtM3nghU"
      },
      "source": [
        "### **Task 11**\n",
        "We have prepared the training data and the validation data. We can now choose the hyperparameter lambda for Ridge and Lasso using the validation data.\n",
        "We use the Ridge and Lasso models from scikit-learn: https://scikit-learn.org/stable/modules/generated/sklearn.linear_model.Ridge.html\n",
        "\n",
        "We train Ridge or Lasso models with different lambda values and check their performance on the validation data.\n",
        "The lambda value that results the best performance is then the optimal lambda."
      ]
    },
    {
      "cell_type": "code",
      "execution_count": null,
      "metadata": {
        "colab": {
          "base_uri": "https://localhost:8080/",
          "height": 245
        },
        "id": "SvXcAGW1oHq1",
        "outputId": "5d14ca90-710d-4694-b95d-d81f8bd9cc72"
      },
      "outputs": [
        {
          "output_type": "error",
          "ename": "NameError",
          "evalue": "ignored",
          "traceback": [
            "\u001b[0;31m---------------------------------------------------------------------------\u001b[0m",
            "\u001b[0;31mNameError\u001b[0m                                 Traceback (most recent call last)",
            "\u001b[0;32m<ipython-input-58-bbc01fe488f0>\u001b[0m in \u001b[0;36m<cell line: 52>\u001b[0;34m()\u001b[0m\n\u001b[1;32m     50\u001b[0m \u001b[0;34m\u001b[0m\u001b[0m\n\u001b[1;32m     51\u001b[0m \u001b[0;31m# call the function to choose the lambda for Ridge and Lasso\u001b[0m\u001b[0;34m\u001b[0m\u001b[0;34m\u001b[0m\u001b[0m\n\u001b[0;32m---> 52\u001b[0;31m \u001b[0mlam_ridge\u001b[0m \u001b[0;34m=\u001b[0m \u001b[0mchoose_hyper_param\u001b[0m\u001b[0;34m(\u001b[0m\u001b[0mX_train_n\u001b[0m\u001b[0;34m,\u001b[0m \u001b[0my_train_n\u001b[0m\u001b[0;34m,\u001b[0m \u001b[0mX_train_v\u001b[0m\u001b[0;34m,\u001b[0m \u001b[0my_train_v\u001b[0m\u001b[0;34m,\u001b[0m \u001b[0;32mTrue\u001b[0m\u001b[0;34m)\u001b[0m\u001b[0;34m\u001b[0m\u001b[0;34m\u001b[0m\u001b[0m\n\u001b[0m\u001b[1;32m     53\u001b[0m \u001b[0mlam_lasso\u001b[0m \u001b[0;34m=\u001b[0m \u001b[0mchoose_hyper_param\u001b[0m\u001b[0;34m(\u001b[0m\u001b[0mX_train_n\u001b[0m\u001b[0;34m,\u001b[0m \u001b[0my_train_n\u001b[0m\u001b[0;34m,\u001b[0m \u001b[0mX_train_v\u001b[0m\u001b[0;34m,\u001b[0m \u001b[0my_train_v\u001b[0m\u001b[0;34m,\u001b[0m \u001b[0;32mFalse\u001b[0m\u001b[0;34m)\u001b[0m\u001b[0;34m\u001b[0m\u001b[0;34m\u001b[0m\u001b[0m\n\u001b[1;32m     54\u001b[0m \u001b[0;34m\u001b[0m\u001b[0m\n",
            "\u001b[0;31mNameError\u001b[0m: name 'X_train_n' is not defined"
          ]
        }
      ],
      "source": [
        "from sklearn.linear_model import Ridge, Lasso\n",
        "import numpy as np\n",
        "import matplotlib.pyplot as plt\n",
        "# The function takes the training and validation data as inputs, and\n",
        "# returns the lambda value that results the minimal mse\n",
        "# We use is_ridge to indicate which the model is considered.\n",
        "# is_ridge = True indicates Ridge while is_ridge = False indicates Lasso\n",
        "def choose_hyper_param(X_train_n, y_train_n, X_train_v, y_train_v, is_ridge: bool):\n",
        "    mse_arr = []\n",
        "    lam_arr = []\n",
        "\n",
        "    # Try lambda values from 10^-4 to 10^2.\n",
        "    # Record the mse and the lambda values in mse_arr and lam_arr\n",
        "\n",
        "    for pow_lam in range(-4, 3):\n",
        "        lam = 10 ** pow_lam\n",
        "         # Create Ridge or Lasso model based on the is_ridge parameter\n",
        "        if is_ridge:\n",
        "            model = Ridge(alpha=lam)\n",
        "        else:\n",
        "            model = Lasso(alpha=lam)\n",
        "\n",
        "        mse = 0 # compute the mse for this lam\n",
        "\n",
        "         # Fit the model on the training data\n",
        "        model.fit(X_train_n, y_train_n)\n",
        "\n",
        "        # Predict on the validation data\n",
        "        y_pred = model.predict(X_train_v)\n",
        "\n",
        "        # Calculate the MSE for this lambda\n",
        "        mse = np.mean((y_train_v - y_pred) ** 2)\n",
        "\n",
        "        mse_arr.append(mse)\n",
        "        lam_arr.append(lam)\n",
        "\n",
        "\n",
        "\n",
        "    # get the index of the lambda value that has the minimal use\n",
        "    lambda_idx_min = np.argmin(np.array(mse_arr))\n",
        "\n",
        "    # plot of the lambda values and their mse\n",
        "    plt.figure()\n",
        "    plt.semilogx(lam_arr, mse_arr)\n",
        "\n",
        "    # return the optimal lambda value\n",
        "    return lam_arr[lambda_idx_min]\n",
        "\n",
        "# call the function to choose the lambda for Ridge and Lasso\n",
        "lam_ridge = choose_hyper_param(X_train_n, y_train_n, X_train_v, y_train_v, True)\n",
        "lam_lasso = choose_hyper_param(X_train_n, y_train_n, X_train_v, y_train_v, False)\n",
        "\n",
        "print(\"Ridge lambda:\", lam_ridge)\n",
        "print(\"Lasso lambda:\", lam_lasso)"
      ]
    },
    {
      "cell_type": "markdown",
      "metadata": {
        "id": "FAuX0uU5k9qD"
      },
      "source": [
        "### **Task 12**:\n",
        "Once you’ve obtained the optimal lambdas for Ridge and Lasso, train these models using these lambdas on the full training data. Then report\n",
        "the training and test error."
      ]
    },
    {
      "cell_type": "code",
      "execution_count": null,
      "metadata": {
        "id": "VmwHESkg77zK",
        "colab": {
          "base_uri": "https://localhost:8080/",
          "height": 245
        },
        "outputId": "2a4a4cf3-eb2f-48a9-9356-568dfb7abd0b"
      },
      "outputs": [
        {
          "output_type": "error",
          "ename": "NameError",
          "evalue": "ignored",
          "traceback": [
            "\u001b[0;31m---------------------------------------------------------------------------\u001b[0m",
            "\u001b[0;31mNameError\u001b[0m                                 Traceback (most recent call last)",
            "\u001b[0;32m<ipython-input-61-b538291e0537>\u001b[0m in \u001b[0;36m<cell line: 11>\u001b[0;34m()\u001b[0m\n\u001b[1;32m      9\u001b[0m \u001b[0;34m\u001b[0m\u001b[0m\n\u001b[1;32m     10\u001b[0m \u001b[0;31m# Choose optimal lambda values for Ridge and Lasso\u001b[0m\u001b[0;34m\u001b[0m\u001b[0;34m\u001b[0m\u001b[0m\n\u001b[0;32m---> 11\u001b[0;31m \u001b[0mlam_ridge\u001b[0m \u001b[0;34m=\u001b[0m \u001b[0mchoose_hyper_param\u001b[0m\u001b[0;34m(\u001b[0m\u001b[0mX_train_n\u001b[0m\u001b[0;34m,\u001b[0m \u001b[0my_train_n\u001b[0m\u001b[0;34m,\u001b[0m \u001b[0mX_train_v\u001b[0m\u001b[0;34m,\u001b[0m \u001b[0my_train_v\u001b[0m\u001b[0;34m,\u001b[0m \u001b[0;32mTrue\u001b[0m\u001b[0;34m)\u001b[0m\u001b[0;34m\u001b[0m\u001b[0;34m\u001b[0m\u001b[0m\n\u001b[0m\u001b[1;32m     12\u001b[0m \u001b[0mlam_lasso\u001b[0m \u001b[0;34m=\u001b[0m \u001b[0mchoose_hyper_param\u001b[0m\u001b[0;34m(\u001b[0m\u001b[0mX_train_n\u001b[0m\u001b[0;34m,\u001b[0m \u001b[0my_train_n\u001b[0m\u001b[0;34m,\u001b[0m \u001b[0mX_train_v\u001b[0m\u001b[0;34m,\u001b[0m \u001b[0my_train_v\u001b[0m\u001b[0;34m,\u001b[0m \u001b[0;32mFalse\u001b[0m\u001b[0;34m)\u001b[0m\u001b[0;34m\u001b[0m\u001b[0;34m\u001b[0m\u001b[0m\n\u001b[1;32m     13\u001b[0m \u001b[0;34m\u001b[0m\u001b[0m\n",
            "\u001b[0;31mNameError\u001b[0m: name 'X_train_n' is not defined"
          ]
        }
      ],
      "source": [
        "# TODO: train the Ridge and Lasso models using the optimal parameters, and\n",
        "#       report their MSE\n",
        "\n",
        "# Hints: train these models on the full training data\n",
        "mse_ridge_train = 0\n",
        "mse_ridge_test = 0\n",
        "mse_lasso_train = 0\n",
        "mse_lasso_test = 0\n",
        "\n",
        "# # Choose optimal lambda values for Ridge and Lasso\n",
        "# lam_ridge = choose_hyper_param(X_train_n, y_train_n, X_train_v, y_train_v, True)\n",
        "# lam_lasso = choose_hyper_param(X_train_n, y_train_n, X_train_v, y_train_v, False)\n",
        "\n",
        "# Train Ridge and Lasso models with optimal lambdas on the full training data\n",
        "ridge_model = Ridge(alpha=lam_ridge)\n",
        "lasso_model = Lasso(alpha=lam_lasso)\n",
        "\n",
        "# Fit the models on the full training data\n",
        "ridge_model.fit(X_train_n_std, y_train_n)\n",
        "lasso_model.fit(X_train_n_std, y_train_n)\n",
        "\n",
        "# Predict on the full training data and test data\n",
        "y_pred_ridge_train = ridge_model.predict(X_train_n_std)\n",
        "y_pred_ridge_test = ridge_model.predict(X_test_expanded)\n",
        "\n",
        "y_pred_lasso_train = lasso_model.predict(X_train_n_std)\n",
        "y_pred_lasso_test = lasso_model.predict(X_test_expanded)\n",
        "\n",
        "# Calculate the MSE for Ridge and Lasso models on training and test data\n",
        "mse_ridge_train = np.mean((y_train_n - y_pred_ridge_train) ** 2)\n",
        "mse_ridge_test = np.mean((y_test - y_pred_ridge_test) ** 2)\n",
        "\n",
        "mse_lasso_train = np.mean((y_train_n - y_pred_lasso_train) ** 2)\n",
        "mse_lasso_test = np.mean((y_test - y_pred_lasso_test) ** 2)\n",
        "\n",
        "# Report the result\n",
        "print('For Ridge Regression with using degree %d polynomial expansion and lambda = %.4f' % (degree_ridge, lam_ridge))\n",
        "print('--------------------------------------------------------------------------------\\n')\n",
        "print('MSE (Training) = %.4f' % mse_ridge_train)\n",
        "print('MSE (Testing)  = %.4f' % mse_ridge_test)\n",
        "\n",
        "print('\\n\\nFor Lasso with using degree %d polynomial expansion and lambda = %.4f' % (degree_lasso, lam_lasso))\n",
        "print('---------------------------------------------------------------------\\n')\n",
        "print('MSE (Training) = %.4f' % mse_lasso_train)\n",
        "print('MSE (Testing)  = %.4f' % mse_lasso_test)"
      ]
    },
    {
      "cell_type": "markdown",
      "metadata": {
        "id": "30t16EcZwvFS"
      },
      "source": [
        "## **Task 13 Optional**: Feature importance and feature interaction"
      ]
    },
    {
      "cell_type": "markdown",
      "metadata": {
        "id": "xEbWtnH_wvFS"
      },
      "source": [
        "This is an optional task. You can get up to 5 bonus points if you complete this task.\n",
        "\n",
        "The task is to identify the features that contribute the most and the least to the prediction, and to explore feature interaction. First, we are evaluating the performance of linear regression models that use only one feature each. We train one model for every feature and report the MSE for each model. Then, we train a linear regression model on all features and analyse the contribution of each feature to the prediction.\n",
        "In addition, you will practice the k-fold cross-validation method.\n",
        "\n",
        "In this optional task, you may use the `cross_val_score` function and `LinearRegression` class from the scikit-learn library. We import both below.\n",
        "\n",
        "Note, if you use the `LinearRegression` class with its default parameters, then you do not need to add the bias term to the data. The `LinearRegression` class will add the bias automatically.\n",
        "\n",
        "Proceed as follows:\n",
        "\n",
        "1. Split the data into training and test data. Use the first 80% of the data for training and the remaining 20% for testing.\n",
        "\n",
        "2. Standardize the training data and test data. You can use the `StandardScaler` function from the scikit-learn library.\n",
        "\n",
        "3. Use the `cross_val_score` function to train one linear regression model for every feature. The function returns an array with the MSE for each fold. You can use the `mean` function from the NumPy library to compute the average MSE for each feature. (use the following parameters: `cv=5`, `scoring='neg_mean_squared_error'`)\n",
        "\n",
        "4. Plot the average MSE for each feature (Note, the `cross_val_score` function returns the negative MSE. Plot the positive values by multipling with $-1$). Use the `bar` function from the matplotlib library to plot the MSEs.\n",
        "\n",
        "5. **Report which single-feature model performs best and which performs worst.**\n",
        "\n",
        "6. Train a linear regression model on the training data and report the coefficients of the model. Use the `LinearRegression` class from the scikit-learn library and extract the coefficients using the `coef_` attribute.\n",
        "\n",
        "7. **Plot the coefficients using the `bar` function from the matplotlib library.**\n",
        "\n",
        "8. Compare the coefficients of the feature that achieved the smallest and largest MSE in step 3 with the coefficients of the model trained in step 6.\n",
        "\n",
        "9. **Answer the following questions:**\n",
        "    - What do the model coefficients tell us about the contribution of each feature to the prediction?\n",
        "    - Identify and report the features that contribute the most and the least to the model trained in step 6.\n",
        "    - How do the coefficients of the model trained in step 6 compare to the insigths gained from the single-feature models? Is the most important feature according to the single-feature models also the highest contributing feature according to the model trained on all features? If not, why do you think this is the case?\n",
        "    - If the volatile acidity of a wine increases, how does this impact the quality of the wine according to the model trained in step 6?\n"
      ]
    },
    {
      "cell_type": "code",
      "execution_count": null,
      "metadata": {
        "id": "_gbdq-fiwvFS"
      },
      "outputs": [],
      "source": [
        "from sklearn.model_selection import cross_val_score\n",
        "from sklearn.linear_model import LinearRegression"
      ]
    },
    {
      "cell_type": "code",
      "execution_count": null,
      "metadata": {
        "id": "7wOqMJnJwvFT",
        "outputId": "4c94fbde-cf79-423d-c164-475bd32fd2f0",
        "colab": {
          "base_uri": "https://localhost:8080/",
          "height": 455
        }
      },
      "outputs": [
        {
          "output_type": "display_data",
          "data": {
            "text/plain": [
              "<Figure size 640x480 with 1 Axes>"
            ],
            "image/png": "[encoded data removed]"
          },
          "metadata": {}
        }
      ],
      "source": [
        "#X_train, y_train, X_test, y_test = split_data(X, y, 0.8)\n",
        "from sklearn.model_selection import cross_val_score\n",
        "from sklearn.linear_model import LinearRegression\n",
        "\n",
        "\n",
        "n_features = 11\n",
        "cross_val_err = np.zeros(n_features)\n",
        "\n",
        "# standardize the data\n",
        "scaler = StandardScaler()\n",
        "X_train_scaled = scaler.fit_transform(X_train)\n",
        "X_test_scaled = scaler.transform(X_test)\n",
        "\n",
        "# train one model for each feature and compute the cross validation error\n",
        "\n",
        "# Loop over each feature and train a model\n",
        "for feature_index in range(n_features):\n",
        "    # Select the current feature\n",
        "    X_train_feature = X_train_scaled[:, feature_index].reshape(-1, 1)\n",
        "\n",
        "    # Create a linear regression model\n",
        "    model = LinearRegression()\n",
        "\n",
        "    # Compute cross-validation scores for the current feature\n",
        "    scores = cross_val_score(model, X_train_feature, y_train, cv=5, scoring='neg_mean_squared_error')\n",
        "\n",
        "    # Calculate the mean squared error\n",
        "    mean_mse = -np.mean(scores)\n",
        "\n",
        "    # Store the error in the array\n",
        "    cross_val_err[feature_index] = mean_mse\n",
        "\n",
        "\n",
        "# plot the cross validation error as bar chart\n",
        "plt.figure()\n",
        "plt.bar(np.arange(n_features), cross_val_err)\n",
        "plt.xlabel('Feature Index')\n",
        "plt.ylabel('Cross Validation Error')\n",
        "plt.ylim([0.5, 0.8])\n",
        "plt.show()\n"
      ]
    },
    {
      "cell_type": "markdown",
      "metadata": {
        "id": "KhjkGHBDwvFT"
      },
      "source": [
        "**Describe which single feature model performs best and which performs worst.**\n",
        "\n",
        "**YOUR ANSWER**\n"
      ]
    },
    {
      "cell_type": "code",
      "execution_count": null,
      "metadata": {
        "id": "GCnlYkvlwvFU"
      },
      "outputs": [],
      "source": [
        "###################################################\n",
        "##### YOUR CODE STARTS HERE #######################\n",
        "###################################################\n",
        "\n",
        "# train the linear model using the full training data\n",
        "\n",
        "# extract the coefficients of the linear model\n",
        "\n",
        "# plot the coefficients in the order of their feature index\n",
        "\n",
        "\n",
        "###################################################\n",
        "##### YOUR CODE ENDS HERE #########################\n",
        "###################################################"
      ]
    },
    {
      "cell_type": "markdown",
      "metadata": {
        "id": "fmk3YJpVwvFU"
      },
      "source": [
        "**YOUR ANSWERS TO THE QUESTIONS IN STEP 9**"
      ]
    },
    {
      "cell_type": "markdown",
      "metadata": {
        "id": "UCAFd75JwvFU"
      },
      "source": []
    }
  ],
  "metadata": {
    "colab": {
      "provenance": [],
      "include_colab_link": true
    },
    "kernelspec": {
      "display_name": "Python 3",
      "language": "python",
      "name": "python3"
    },
    "language_info": {
      "codemirror_mode": {
        "name": "ipython",
        "version": 3
      },
      "file_extension": ".py",
      "mimetype": "text/x-python",
      "name": "python",
      "nbconvert_exporter": "python",
      "pygments_lexer": "ipython3",
      "version": "3.8.0"
    }
  },
  "nbformat": 4,
  "nbformat_minor": 0
}